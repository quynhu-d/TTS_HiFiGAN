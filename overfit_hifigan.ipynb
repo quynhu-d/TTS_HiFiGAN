{
  "nbformat": 4,
  "nbformat_minor": 0,
  "metadata": {
    "colab": {
      "name": "overfit_hifigan.ipynb",
      "provenance": [],
      "collapsed_sections": [
        "8A10hjv_ShHr",
        "bB7Ho0vySmRs"
      ],
      "mount_file_id": "1V2uuTtz0Bs9RYD9IZ1pWezx6kvLV4iu8",
      "authorship_tag": "ABX9TyPctS52KEgyrkzBndvpTzgA",
      "include_colab_link": true
    },
    "kernelspec": {
      "name": "python3",
      "display_name": "Python 3"
    },
    "language_info": {
      "name": "python"
    },
    "widgets": {
      "application/vnd.jupyter.widget-state+json": {
        "7ba5ff7686704461a46a707e79454e50": {
          "model_module": "@jupyter-widgets/controls",
          "model_name": "HBoxModel",
          "model_module_version": "1.5.0",
          "state": {
            "_view_name": "HBoxView",
            "_dom_classes": [],
            "_model_name": "HBoxModel",
            "_view_module": "@jupyter-widgets/controls",
            "_model_module_version": "1.5.0",
            "_view_count": null,
            "_view_module_version": "1.5.0",
            "box_style": "",
            "layout": "IPY_MODEL_dacf958c91c840fe829e7b13a8001397",
            "_model_module": "@jupyter-widgets/controls",
            "children": [
              "IPY_MODEL_f2e608a2c6e24763b0840405f0029ded",
              "IPY_MODEL_e884afa5814747c7ad306031e0032ca1",
              "IPY_MODEL_175e72f145b24c88ac801905de5c1aa6"
            ]
          }
        },
        "dacf958c91c840fe829e7b13a8001397": {
          "model_module": "@jupyter-widgets/base",
          "model_name": "LayoutModel",
          "model_module_version": "1.2.0",
          "state": {
            "_view_name": "LayoutView",
            "grid_template_rows": null,
            "right": null,
            "justify_content": null,
            "_view_module": "@jupyter-widgets/base",
            "overflow": null,
            "_model_module_version": "1.2.0",
            "_view_count": null,
            "flex_flow": null,
            "width": null,
            "min_width": null,
            "border": null,
            "align_items": null,
            "bottom": null,
            "_model_module": "@jupyter-widgets/base",
            "top": null,
            "grid_column": null,
            "overflow_y": null,
            "overflow_x": null,
            "grid_auto_flow": null,
            "grid_area": null,
            "grid_template_columns": null,
            "flex": null,
            "_model_name": "LayoutModel",
            "justify_items": null,
            "grid_row": null,
            "max_height": null,
            "align_content": null,
            "visibility": null,
            "align_self": null,
            "height": null,
            "min_height": null,
            "padding": null,
            "grid_auto_rows": null,
            "grid_gap": null,
            "max_width": null,
            "order": null,
            "_view_module_version": "1.2.0",
            "grid_template_areas": null,
            "object_position": null,
            "object_fit": null,
            "grid_auto_columns": null,
            "margin": null,
            "display": null,
            "left": null
          }
        },
        "f2e608a2c6e24763b0840405f0029ded": {
          "model_module": "@jupyter-widgets/controls",
          "model_name": "HTMLModel",
          "model_module_version": "1.5.0",
          "state": {
            "_view_name": "HTMLView",
            "style": "IPY_MODEL_0ab00bfc23a843edb543123f89fe96a9",
            "_dom_classes": [],
            "description": "",
            "_model_name": "HTMLModel",
            "placeholder": "​",
            "_view_module": "@jupyter-widgets/controls",
            "_model_module_version": "1.5.0",
            "value": " 63%",
            "_view_count": null,
            "_view_module_version": "1.5.0",
            "description_tooltip": null,
            "_model_module": "@jupyter-widgets/controls",
            "layout": "IPY_MODEL_62f3934f2fe847a5b45cf0066a1c54c5"
          }
        },
        "e884afa5814747c7ad306031e0032ca1": {
          "model_module": "@jupyter-widgets/controls",
          "model_name": "FloatProgressModel",
          "model_module_version": "1.5.0",
          "state": {
            "_view_name": "ProgressView",
            "style": "IPY_MODEL_65d27cb31717427bad53637480cbe66f",
            "_dom_classes": [],
            "description": "",
            "_model_name": "FloatProgressModel",
            "bar_style": "",
            "max": 10000,
            "_view_module": "@jupyter-widgets/controls",
            "_model_module_version": "1.5.0",
            "value": 6327,
            "_view_count": null,
            "_view_module_version": "1.5.0",
            "orientation": "horizontal",
            "min": 0,
            "description_tooltip": null,
            "_model_module": "@jupyter-widgets/controls",
            "layout": "IPY_MODEL_dd8f6e800d844ff0846f248d065561e7"
          }
        },
        "175e72f145b24c88ac801905de5c1aa6": {
          "model_module": "@jupyter-widgets/controls",
          "model_name": "HTMLModel",
          "model_module_version": "1.5.0",
          "state": {
            "_view_name": "HTMLView",
            "style": "IPY_MODEL_f8779e5336e443579aaff2d15fe50091",
            "_dom_classes": [],
            "description": "",
            "_model_name": "HTMLModel",
            "placeholder": "​",
            "_view_module": "@jupyter-widgets/controls",
            "_model_module_version": "1.5.0",
            "value": " 6327/10000 [55:52&lt;34:51,  1.76it/s]",
            "_view_count": null,
            "_view_module_version": "1.5.0",
            "description_tooltip": null,
            "_model_module": "@jupyter-widgets/controls",
            "layout": "IPY_MODEL_5d6cc1c73cc047e5a5a179f33309d7d4"
          }
        },
        "0ab00bfc23a843edb543123f89fe96a9": {
          "model_module": "@jupyter-widgets/controls",
          "model_name": "DescriptionStyleModel",
          "model_module_version": "1.5.0",
          "state": {
            "_view_name": "StyleView",
            "_model_name": "DescriptionStyleModel",
            "description_width": "",
            "_view_module": "@jupyter-widgets/base",
            "_model_module_version": "1.5.0",
            "_view_count": null,
            "_view_module_version": "1.2.0",
            "_model_module": "@jupyter-widgets/controls"
          }
        },
        "62f3934f2fe847a5b45cf0066a1c54c5": {
          "model_module": "@jupyter-widgets/base",
          "model_name": "LayoutModel",
          "model_module_version": "1.2.0",
          "state": {
            "_view_name": "LayoutView",
            "grid_template_rows": null,
            "right": null,
            "justify_content": null,
            "_view_module": "@jupyter-widgets/base",
            "overflow": null,
            "_model_module_version": "1.2.0",
            "_view_count": null,
            "flex_flow": null,
            "width": null,
            "min_width": null,
            "border": null,
            "align_items": null,
            "bottom": null,
            "_model_module": "@jupyter-widgets/base",
            "top": null,
            "grid_column": null,
            "overflow_y": null,
            "overflow_x": null,
            "grid_auto_flow": null,
            "grid_area": null,
            "grid_template_columns": null,
            "flex": null,
            "_model_name": "LayoutModel",
            "justify_items": null,
            "grid_row": null,
            "max_height": null,
            "align_content": null,
            "visibility": null,
            "align_self": null,
            "height": null,
            "min_height": null,
            "padding": null,
            "grid_auto_rows": null,
            "grid_gap": null,
            "max_width": null,
            "order": null,
            "_view_module_version": "1.2.0",
            "grid_template_areas": null,
            "object_position": null,
            "object_fit": null,
            "grid_auto_columns": null,
            "margin": null,
            "display": null,
            "left": null
          }
        },
        "65d27cb31717427bad53637480cbe66f": {
          "model_module": "@jupyter-widgets/controls",
          "model_name": "ProgressStyleModel",
          "model_module_version": "1.5.0",
          "state": {
            "_view_name": "StyleView",
            "_model_name": "ProgressStyleModel",
            "description_width": "",
            "_view_module": "@jupyter-widgets/base",
            "_model_module_version": "1.5.0",
            "_view_count": null,
            "_view_module_version": "1.2.0",
            "bar_color": null,
            "_model_module": "@jupyter-widgets/controls"
          }
        },
        "dd8f6e800d844ff0846f248d065561e7": {
          "model_module": "@jupyter-widgets/base",
          "model_name": "LayoutModel",
          "model_module_version": "1.2.0",
          "state": {
            "_view_name": "LayoutView",
            "grid_template_rows": null,
            "right": null,
            "justify_content": null,
            "_view_module": "@jupyter-widgets/base",
            "overflow": null,
            "_model_module_version": "1.2.0",
            "_view_count": null,
            "flex_flow": null,
            "width": null,
            "min_width": null,
            "border": null,
            "align_items": null,
            "bottom": null,
            "_model_module": "@jupyter-widgets/base",
            "top": null,
            "grid_column": null,
            "overflow_y": null,
            "overflow_x": null,
            "grid_auto_flow": null,
            "grid_area": null,
            "grid_template_columns": null,
            "flex": null,
            "_model_name": "LayoutModel",
            "justify_items": null,
            "grid_row": null,
            "max_height": null,
            "align_content": null,
            "visibility": null,
            "align_self": null,
            "height": null,
            "min_height": null,
            "padding": null,
            "grid_auto_rows": null,
            "grid_gap": null,
            "max_width": null,
            "order": null,
            "_view_module_version": "1.2.0",
            "grid_template_areas": null,
            "object_position": null,
            "object_fit": null,
            "grid_auto_columns": null,
            "margin": null,
            "display": null,
            "left": null
          }
        },
        "f8779e5336e443579aaff2d15fe50091": {
          "model_module": "@jupyter-widgets/controls",
          "model_name": "DescriptionStyleModel",
          "model_module_version": "1.5.0",
          "state": {
            "_view_name": "StyleView",
            "_model_name": "DescriptionStyleModel",
            "description_width": "",
            "_view_module": "@jupyter-widgets/base",
            "_model_module_version": "1.5.0",
            "_view_count": null,
            "_view_module_version": "1.2.0",
            "_model_module": "@jupyter-widgets/controls"
          }
        },
        "5d6cc1c73cc047e5a5a179f33309d7d4": {
          "model_module": "@jupyter-widgets/base",
          "model_name": "LayoutModel",
          "model_module_version": "1.2.0",
          "state": {
            "_view_name": "LayoutView",
            "grid_template_rows": null,
            "right": null,
            "justify_content": null,
            "_view_module": "@jupyter-widgets/base",
            "overflow": null,
            "_model_module_version": "1.2.0",
            "_view_count": null,
            "flex_flow": null,
            "width": null,
            "min_width": null,
            "border": null,
            "align_items": null,
            "bottom": null,
            "_model_module": "@jupyter-widgets/base",
            "top": null,
            "grid_column": null,
            "overflow_y": null,
            "overflow_x": null,
            "grid_auto_flow": null,
            "grid_area": null,
            "grid_template_columns": null,
            "flex": null,
            "_model_name": "LayoutModel",
            "justify_items": null,
            "grid_row": null,
            "max_height": null,
            "align_content": null,
            "visibility": null,
            "align_self": null,
            "height": null,
            "min_height": null,
            "padding": null,
            "grid_auto_rows": null,
            "grid_gap": null,
            "max_width": null,
            "order": null,
            "_view_module_version": "1.2.0",
            "grid_template_areas": null,
            "object_position": null,
            "object_fit": null,
            "grid_auto_columns": null,
            "margin": null,
            "display": null,
            "left": null
          }
        }
      }
    },
    "accelerator": "GPU"
  },
  "cells": [
    {
      "cell_type": "markdown",
      "metadata": {
        "id": "view-in-github",
        "colab_type": "text"
      },
      "source": [
        "<a href=\"https://colab.research.google.com/github/quynhu-d/TTS_HiFiGAN/blob/master/overfit_hifigan.ipynb\" target=\"_parent\"><img src=\"https://colab.research.google.com/assets/colab-badge.svg\" alt=\"Open In Colab\"/></a>"
      ]
    },
    {
      "cell_type": "code",
      "source": [
        "%load_ext autoreload\n",
        "%autoreload 2"
      ],
      "metadata": {
        "id": "jXA1LkUtS6qr"
      },
      "execution_count": null,
      "outputs": []
    },
    {
      "cell_type": "markdown",
      "source": [
        "# Cloning and imports"
      ],
      "metadata": {
        "id": "8A10hjv_ShHr"
      }
    },
    {
      "cell_type": "code",
      "execution_count": null,
      "metadata": {
        "colab": {
          "base_uri": "https://localhost:8080/"
        },
        "id": "Mkv418joSGIN",
        "outputId": "d1e3bc3b-116e-4bd9-e302-680864e044ee"
      },
      "outputs": [
        {
          "output_type": "stream",
          "name": "stdout",
          "text": [
            "Cloning into 'TTS_HiFiGAN'...\n",
            "remote: Enumerating objects: 52, done.\u001b[K\n",
            "remote: Counting objects: 100% (52/52), done.\u001b[K\n",
            "remote: Compressing objects: 100% (42/42), done.\u001b[K\n",
            "remote: Total 52 (delta 13), reused 44 (delta 8), pack-reused 0\u001b[K\n",
            "Unpacking objects: 100% (52/52), done.\n"
          ]
        }
      ],
      "source": [
        "!git clone https://github.com/quynhu-d/TTS_HiFiGAN/"
      ]
    },
    {
      "cell_type": "code",
      "source": [
        "%cd TTS_HiFiGAN/"
      ],
      "metadata": {
        "colab": {
          "base_uri": "https://localhost:8080/"
        },
        "id": "q3nhrqwESOJ1",
        "outputId": "a905ebf1-2b9c-43a0-b501-74dc99dbb245"
      },
      "execution_count": null,
      "outputs": [
        {
          "output_type": "stream",
          "name": "stdout",
          "text": [
            "/content/TTS_HiFiGAN\n"
          ]
        }
      ]
    },
    {
      "cell_type": "code",
      "source": [
        "!pip install -r ./requirements.txt"
      ],
      "metadata": {
        "id": "K-P-zJitSZSZ"
      },
      "execution_count": null,
      "outputs": []
    },
    {
      "cell_type": "code",
      "source": [
        "from torchvision import transforms, datasets\n",
        "import torch\n",
        "import torch.nn as nn\n",
        "import torch.nn.functional as F\n",
        "import torch.optim as optim"
      ],
      "metadata": {
        "id": "aHmzQdSDTdTJ"
      },
      "execution_count": 4,
      "outputs": []
    },
    {
      "cell_type": "code",
      "source": [
        "import os\n",
        "import torch\n",
        "import pandas as pd\n",
        "import numpy as np\n",
        "from torch.utils.data import Dataset, DataLoader\n",
        "from torchvision import transforms, utils\n",
        "\n",
        "torch.manual_seed(42)\n",
        "if torch.cuda.is_available():\n",
        "    torch.cuda.manual_seed_all(42)"
      ],
      "metadata": {
        "id": "yKDohTR4T2Xh"
      },
      "execution_count": 5,
      "outputs": []
    },
    {
      "cell_type": "code",
      "source": [
        "import wandb\n",
        "wandb.login()"
      ],
      "metadata": {
        "colab": {
          "base_uri": "https://localhost:8080/"
        },
        "id": "GOXmm0fvXsri",
        "outputId": "cf58a8a6-7e36-4f4e-f56c-a68e059aef47"
      },
      "execution_count": 6,
      "outputs": [
        {
          "output_type": "stream",
          "name": "stderr",
          "text": [
            "\u001b[34m\u001b[1mwandb\u001b[0m: Currently logged in as: \u001b[33mquynhu_d\u001b[0m (use `wandb login --relogin` to force relogin)\n"
          ]
        },
        {
          "output_type": "execute_result",
          "data": {
            "text/plain": [
              "True"
            ]
          },
          "metadata": {},
          "execution_count": 6
        }
      ]
    },
    {
      "cell_type": "markdown",
      "source": [
        "# Data"
      ],
      "metadata": {
        "id": "bB7Ho0vySmRs"
      }
    },
    {
      "cell_type": "code",
      "source": [
        "# !wget https://data.keithito.com/data/speech/LJSpeech-1.1.tar.bz2\n",
        "# !tar -xjf LJSpeech-1.1.tar.bz2 -C \"/content/drive/MyDrive/TTS/\""
      ],
      "metadata": {
        "id": "yZNkOmmTYi-x"
      },
      "execution_count": null,
      "outputs": []
    },
    {
      "cell_type": "code",
      "source": [
        "from data import *"
      ],
      "metadata": {
        "id": "WAVeobqtSet4"
      },
      "execution_count": null,
      "outputs": []
    },
    {
      "cell_type": "code",
      "source": [
        "lj_path = '/content/drive/MyDrive/TTS/'\n",
        "dataset = LJSpeechDataset(lj_path)"
      ],
      "metadata": {
        "id": "SeTWloLKTM7i"
      },
      "execution_count": null,
      "outputs": []
    },
    {
      "cell_type": "code",
      "source": [
        "train_dataloader = DataLoader(dataset, batch_size=3, collate_fn=LJSpeechCollator(), shuffle=False)"
      ],
      "metadata": {
        "id": "rpKDkxKOTV7q"
      },
      "execution_count": null,
      "outputs": []
    },
    {
      "cell_type": "code",
      "source": [
        "iter(train_dataloader)"
      ],
      "metadata": {
        "id": "6chNZNvnUNu0",
        "colab": {
          "base_uri": "https://localhost:8080/"
        },
        "outputId": "7fd47a4f-acb4-4957-abd3-58b29fc9032c"
      },
      "execution_count": null,
      "outputs": [
        {
          "output_type": "execute_result",
          "data": {
            "text/plain": [
              "<torch.utils.data.dataloader._SingleProcessDataLoaderIter at 0x7fa7389fe650>"
            ]
          },
          "metadata": {},
          "execution_count": 11
        }
      ]
    },
    {
      "cell_type": "code",
      "source": [
        "(iter(train_dataloader)).next().waveform.shape"
      ],
      "metadata": {
        "id": "Wmwt8RoUUB0p",
        "colab": {
          "base_uri": "https://localhost:8080/"
        },
        "outputId": "e449c3a9-f549-4a66-8c97-4d7015babb6b"
      },
      "execution_count": null,
      "outputs": [
        {
          "output_type": "execute_result",
          "data": {
            "text/plain": [
              "torch.Size([3, 8192])"
            ]
          },
          "metadata": {},
          "execution_count": 14
        }
      ]
    },
    {
      "cell_type": "markdown",
      "source": [
        "# Mel"
      ],
      "metadata": {
        "id": "h50meACkSjya"
      }
    },
    {
      "cell_type": "code",
      "source": [
        "from featurizer import *"
      ],
      "metadata": {
        "id": "Jw955dUWSk91"
      },
      "execution_count": null,
      "outputs": []
    },
    {
      "cell_type": "code",
      "source": [
        "batch = (iter(train_dataloader)).next()\n",
        "batch"
      ],
      "metadata": {
        "colab": {
          "base_uri": "https://localhost:8080/"
        },
        "id": "lwEZf4L1S3fp",
        "outputId": "9b16fa9c-ce57-42e7-a609-be7fa3e05791"
      },
      "execution_count": null,
      "outputs": [
        {
          "output_type": "execute_result",
          "data": {
            "text/plain": [
              "Batch(waveform=tensor([[ 0.0080,  0.0012, -0.0009,  ...,  0.0872,  0.1367,  0.1590],\n",
              "        [-0.2507, -0.2405, -0.2321,  ...,  0.0004,  0.0025,  0.0037],\n",
              "        [-0.0005,  0.0011,  0.0009,  ...,  0.0060,  0.0104,  0.0191]]), waveform_length=tensor([212893,  41885, 213149], dtype=torch.int32), transcript=('Printing, in the only sense with which we are at present concerned, differs from most if not from all the arts and crafts represented in the Exhibition', 'in being comparatively modern.', 'For although the Chinese took impressions from wood blocks engraved in relief for centuries before the woodcutters of the Netherlands, by a similar process'), mel=None)"
            ]
          },
          "metadata": {},
          "execution_count": 16
        }
      ]
    },
    {
      "cell_type": "code",
      "source": [
        "mel = MelSpectrogram(MelSpectrogramConfig())"
      ],
      "metadata": {
        "id": "7IQC6QmzSnFL"
      },
      "execution_count": null,
      "outputs": []
    },
    {
      "cell_type": "code",
      "source": [
        "mel(batch.waveform).shape"
      ],
      "metadata": {
        "colab": {
          "base_uri": "https://localhost:8080/"
        },
        "id": "nw1Kb_CLTCMh",
        "outputId": "8b45d561-e6d4-4621-8232-42c1a228290a"
      },
      "execution_count": null,
      "outputs": [
        {
          "output_type": "execute_result",
          "data": {
            "text/plain": [
              "torch.Size([3, 80, 33])"
            ]
          },
          "metadata": {},
          "execution_count": 21
        }
      ]
    },
    {
      "cell_type": "markdown",
      "source": [
        "# Model"
      ],
      "metadata": {
        "id": "2xj-6kkPYpSN"
      }
    },
    {
      "cell_type": "code",
      "source": [
        "from torchsummary import summary"
      ],
      "metadata": {
        "id": "JU8dbLtsYsCx"
      },
      "execution_count": null,
      "outputs": []
    },
    {
      "cell_type": "markdown",
      "source": [
        "## Generator"
      ],
      "metadata": {
        "id": "AqqEnoALYsbZ"
      }
    },
    {
      "cell_type": "code",
      "source": [
        "from models import Generator"
      ],
      "metadata": {
        "id": "xlV7GL7JYo8X"
      },
      "execution_count": null,
      "outputs": []
    },
    {
      "cell_type": "code",
      "source": [
        "gen = Generator(80, 128)\n",
        "# summary(gen, (80,400))"
      ],
      "metadata": {
        "id": "R-amT9CQYyMH"
      },
      "execution_count": null,
      "outputs": []
    },
    {
      "cell_type": "code",
      "source": [
        "Generator(80,128)(mel(next(iter(train_dataloader)).waveform)).shape"
      ],
      "metadata": {
        "colab": {
          "base_uri": "https://localhost:8080/"
        },
        "id": "bys4wyycT1il",
        "outputId": "d0ae336e-dbfc-499e-b678-932ea3f5d9e7"
      },
      "execution_count": null,
      "outputs": [
        {
          "output_type": "execute_result",
          "data": {
            "text/plain": [
              "torch.Size([3, 8448])"
            ]
          },
          "metadata": {},
          "execution_count": 51
        }
      ]
    },
    {
      "cell_type": "markdown",
      "source": [
        "# Overfit Generator\n",
        "\n",
        "    set lj_path to LJ dataset location"
      ],
      "metadata": {
        "id": "Yf3Ns18CUUx6"
      }
    },
    {
      "cell_type": "code",
      "source": [
        "import torch.nn.functional as F\n",
        "from models import Generator\n",
        "import numpy as np\n",
        "import torch\n",
        "torch.autograd.set_detect_anomaly(True)\n",
        "from tqdm.auto import tqdm, trange\n",
        "from torchvision.transforms import ToTensor\n",
        "import PIL\n",
        "from trainer.utils import plot_spectrogram_to_buf\n",
        "from featurizer import *\n",
        "from data import *\n",
        "\n",
        "\n",
        "LOG = True\n",
        "RGB = True\n",
        "display_step = 1\n",
        "device = torch.device('cuda' if torch.cuda.is_available() else 'cpu')\n",
        "model = Generator(80, 128).to(device)\n",
        "model.train()\n",
        "lj_path = '/content/drive/MyDrive/TTS/'\n",
        "dataset = LJSpeechDataset(lj_path)\n",
        "train_dataloader = DataLoader(dataset, batch_size=4, collate_fn=LJSpeechCollator(), shuffle=False)\n",
        "batch = next(iter(train_dataloader))\n",
        "print(model)\n",
        "opt_g = torch.optim.AdamW(model.parameters(), 2e-4, (.8,.99), weight_decay=.01)\n",
        "sch_g = torch.optim.lr_scheduler.ExponentialLR(opt_g, gamma=.999, last_epoch=-1)\n",
        "n_epochs = 10000\n",
        "if LOG:\n",
        "    wandb.init(project='TTS_HiFiGAN', name='overfit_generator_gpu')\n",
        "featurizer = MelSpectrogram(MelSpectrogramConfig()).to(device)\n",
        "for i in trange(n_epochs):\n",
        "    for _ in train_dataloader:    # fixed batch above\n",
        "        batch.to(device)\n",
        "        opt_g.zero_grad()\n",
        "        batch.mel = featurizer(batch.waveform).to(device)\n",
        "        pred_wav = model(batch.mel)\n",
        "        # print(pred_wav.size(), batch.mel.size())\n",
        "        # print(featurizer(pred_wav).shape)\n",
        "\n",
        "        sz_diff = np.abs(batch.waveform.size(-1) - pred_wav.size(-1))    \n",
        "        if sz_diff != 0:    \n",
        "            if batch.waveform.size(-1) > pred_wav.size(-1):\n",
        "                # print('padding waveform')\n",
        "                pred_wav = F.pad(pred_wav, (0, sz_diff))\n",
        "                true_wav = batch.waveform\n",
        "            else:\n",
        "                # print('padding batch')\n",
        "                true_wav = F.pad(batch.waveform, (0, sz_diff))\n",
        "            # batch.mel = featurizer(batch.waveform)\n",
        "        # print(batch.waveform.shape, pred_wav.shape)\n",
        "        assert true_wav.shape == pred_wav.shape\n",
        "        pred_mel = featurizer(pred_wav)\n",
        "        mel_loss = F.l1_loss(pred_mel, featurizer(true_wav)) * 45\n",
        "        mel_loss.backward()\n",
        "        opt_g.step()\n",
        "        # break\n",
        "\n",
        "        idx = np.random.randint(batch.mel.shape[0])\n",
        "        if LOG and ((i % display_step) == 0):\n",
        "            if RGB:\n",
        "                buf_true = plot_spectrogram_to_buf(batch.mel[idx].detach().cpu().numpy())\n",
        "                buf_pred = plot_spectrogram_to_buf(pred_mel[idx].detach().cpu().numpy())\n",
        "                wandb_mel_true = ToTensor()(PIL.Image.open(buf_true))\n",
        "                wandb_mel_pred = ToTensor()(PIL.Image.open(buf_pred))\n",
        "                del buf_pred\n",
        "                del buf_true\n",
        "            else:\n",
        "                wandb_mel_true = batch.mel[idx].detach().cpu().numpy()\n",
        "                wandb_mel_pred = pred_mel[idx].detach().cpu().numpy()\n",
        "            wandb.log({\n",
        "                'mel_loss': mel_loss,\n",
        "                'mel': wandb.Image(wandb_mel_true),\n",
        "                'mel_pred': wandb.Image(wandb_mel_pred),\n",
        "                'audio': wandb.Audio(batch.waveform[idx].detach().cpu().numpy(),\n",
        "                                        sample_rate=MelSpectrogramConfig.sr),\n",
        "                'audio_pred': wandb.Audio(pred_wav[idx].detach().cpu().numpy(),\n",
        "                                            sample_rate=MelSpectrogramConfig.sr),\n",
        "                'step': i\n",
        "            })\n",
        "        break\n",
        "    sch_g.step()"
      ],
      "metadata": {
        "colab": {
          "base_uri": "https://localhost:8080/",
          "height": 1000,
          "referenced_widgets": [
            "7ba5ff7686704461a46a707e79454e50",
            "dacf958c91c840fe829e7b13a8001397",
            "f2e608a2c6e24763b0840405f0029ded",
            "e884afa5814747c7ad306031e0032ca1",
            "175e72f145b24c88ac801905de5c1aa6",
            "0ab00bfc23a843edb543123f89fe96a9",
            "62f3934f2fe847a5b45cf0066a1c54c5",
            "65d27cb31717427bad53637480cbe66f",
            "dd8f6e800d844ff0846f248d065561e7",
            "f8779e5336e443579aaff2d15fe50091",
            "5d6cc1c73cc047e5a5a179f33309d7d4"
          ]
        },
        "id": "6ko30-kEUWGC",
        "outputId": "379aa17b-397a-43f6-e0de-d01f7d17dd78"
      },
      "execution_count": null,
      "outputs": [
        {
          "output_type": "stream",
          "name": "stdout",
          "text": [
            "Generator(\n",
            "  (conv_in): Conv1d(80, 128, kernel_size=(7,), stride=(1,), padding=(3,))\n",
            "  (upsample_layers): Sequential(\n",
            "    (0): LeakyReLU(negative_slope=0.1)\n",
            "    (1): ConvTranspose1d(128, 64, kernel_size=(16,), stride=(8,), padding=(4,))\n",
            "    (2): MRFModule(\n",
            "      (resblocks): ModuleList(\n",
            "        (0): ResBlock(\n",
            "          (conv1): ModuleList(\n",
            "            (0): Conv1d(64, 64, kernel_size=(3,), stride=(1,), padding=(1,))\n",
            "            (1): Conv1d(64, 64, kernel_size=(3,), stride=(1,), padding=(3,), dilation=(3,))\n",
            "            (2): Conv1d(64, 64, kernel_size=(3,), stride=(1,), padding=(5,), dilation=(5,))\n",
            "          )\n",
            "          (conv2): ModuleList(\n",
            "            (0): Conv1d(64, 64, kernel_size=(3,), stride=(1,), padding=(1,))\n",
            "            (1): Conv1d(64, 64, kernel_size=(3,), stride=(1,), padding=(1,))\n",
            "            (2): Conv1d(64, 64, kernel_size=(3,), stride=(1,), padding=(1,))\n",
            "          )\n",
            "        )\n",
            "        (1): ResBlock(\n",
            "          (conv1): ModuleList(\n",
            "            (0): Conv1d(64, 64, kernel_size=(7,), stride=(1,), padding=(3,))\n",
            "            (1): Conv1d(64, 64, kernel_size=(7,), stride=(1,), padding=(9,), dilation=(3,))\n",
            "            (2): Conv1d(64, 64, kernel_size=(7,), stride=(1,), padding=(15,), dilation=(5,))\n",
            "          )\n",
            "          (conv2): ModuleList(\n",
            "            (0): Conv1d(64, 64, kernel_size=(7,), stride=(1,), padding=(3,))\n",
            "            (1): Conv1d(64, 64, kernel_size=(7,), stride=(1,), padding=(3,))\n",
            "            (2): Conv1d(64, 64, kernel_size=(7,), stride=(1,), padding=(3,))\n",
            "          )\n",
            "        )\n",
            "        (2): ResBlock(\n",
            "          (conv1): ModuleList(\n",
            "            (0): Conv1d(64, 64, kernel_size=(11,), stride=(1,), padding=(5,))\n",
            "            (1): Conv1d(64, 64, kernel_size=(11,), stride=(1,), padding=(15,), dilation=(3,))\n",
            "            (2): Conv1d(64, 64, kernel_size=(11,), stride=(1,), padding=(25,), dilation=(5,))\n",
            "          )\n",
            "          (conv2): ModuleList(\n",
            "            (0): Conv1d(64, 64, kernel_size=(11,), stride=(1,), padding=(5,))\n",
            "            (1): Conv1d(64, 64, kernel_size=(11,), stride=(1,), padding=(5,))\n",
            "            (2): Conv1d(64, 64, kernel_size=(11,), stride=(1,), padding=(5,))\n",
            "          )\n",
            "        )\n",
            "      )\n",
            "    )\n",
            "    (3): LeakyReLU(negative_slope=0.1)\n",
            "    (4): ConvTranspose1d(64, 32, kernel_size=(16,), stride=(8,), padding=(4,))\n",
            "    (5): MRFModule(\n",
            "      (resblocks): ModuleList(\n",
            "        (0): ResBlock(\n",
            "          (conv1): ModuleList(\n",
            "            (0): Conv1d(32, 32, kernel_size=(3,), stride=(1,), padding=(1,))\n",
            "            (1): Conv1d(32, 32, kernel_size=(3,), stride=(1,), padding=(3,), dilation=(3,))\n",
            "            (2): Conv1d(32, 32, kernel_size=(3,), stride=(1,), padding=(5,), dilation=(5,))\n",
            "          )\n",
            "          (conv2): ModuleList(\n",
            "            (0): Conv1d(32, 32, kernel_size=(3,), stride=(1,), padding=(1,))\n",
            "            (1): Conv1d(32, 32, kernel_size=(3,), stride=(1,), padding=(1,))\n",
            "            (2): Conv1d(32, 32, kernel_size=(3,), stride=(1,), padding=(1,))\n",
            "          )\n",
            "        )\n",
            "        (1): ResBlock(\n",
            "          (conv1): ModuleList(\n",
            "            (0): Conv1d(32, 32, kernel_size=(7,), stride=(1,), padding=(3,))\n",
            "            (1): Conv1d(32, 32, kernel_size=(7,), stride=(1,), padding=(9,), dilation=(3,))\n",
            "            (2): Conv1d(32, 32, kernel_size=(7,), stride=(1,), padding=(15,), dilation=(5,))\n",
            "          )\n",
            "          (conv2): ModuleList(\n",
            "            (0): Conv1d(32, 32, kernel_size=(7,), stride=(1,), padding=(3,))\n",
            "            (1): Conv1d(32, 32, kernel_size=(7,), stride=(1,), padding=(3,))\n",
            "            (2): Conv1d(32, 32, kernel_size=(7,), stride=(1,), padding=(3,))\n",
            "          )\n",
            "        )\n",
            "        (2): ResBlock(\n",
            "          (conv1): ModuleList(\n",
            "            (0): Conv1d(32, 32, kernel_size=(11,), stride=(1,), padding=(5,))\n",
            "            (1): Conv1d(32, 32, kernel_size=(11,), stride=(1,), padding=(15,), dilation=(3,))\n",
            "            (2): Conv1d(32, 32, kernel_size=(11,), stride=(1,), padding=(25,), dilation=(5,))\n",
            "          )\n",
            "          (conv2): ModuleList(\n",
            "            (0): Conv1d(32, 32, kernel_size=(11,), stride=(1,), padding=(5,))\n",
            "            (1): Conv1d(32, 32, kernel_size=(11,), stride=(1,), padding=(5,))\n",
            "            (2): Conv1d(32, 32, kernel_size=(11,), stride=(1,), padding=(5,))\n",
            "          )\n",
            "        )\n",
            "      )\n",
            "    )\n",
            "    (6): LeakyReLU(negative_slope=0.1)\n",
            "    (7): ConvTranspose1d(32, 16, kernel_size=(4,), stride=(2,), padding=(1,))\n",
            "    (8): MRFModule(\n",
            "      (resblocks): ModuleList(\n",
            "        (0): ResBlock(\n",
            "          (conv1): ModuleList(\n",
            "            (0): Conv1d(16, 16, kernel_size=(3,), stride=(1,), padding=(1,))\n",
            "            (1): Conv1d(16, 16, kernel_size=(3,), stride=(1,), padding=(3,), dilation=(3,))\n",
            "            (2): Conv1d(16, 16, kernel_size=(3,), stride=(1,), padding=(5,), dilation=(5,))\n",
            "          )\n",
            "          (conv2): ModuleList(\n",
            "            (0): Conv1d(16, 16, kernel_size=(3,), stride=(1,), padding=(1,))\n",
            "            (1): Conv1d(16, 16, kernel_size=(3,), stride=(1,), padding=(1,))\n",
            "            (2): Conv1d(16, 16, kernel_size=(3,), stride=(1,), padding=(1,))\n",
            "          )\n",
            "        )\n",
            "        (1): ResBlock(\n",
            "          (conv1): ModuleList(\n",
            "            (0): Conv1d(16, 16, kernel_size=(7,), stride=(1,), padding=(3,))\n",
            "            (1): Conv1d(16, 16, kernel_size=(7,), stride=(1,), padding=(9,), dilation=(3,))\n",
            "            (2): Conv1d(16, 16, kernel_size=(7,), stride=(1,), padding=(15,), dilation=(5,))\n",
            "          )\n",
            "          (conv2): ModuleList(\n",
            "            (0): Conv1d(16, 16, kernel_size=(7,), stride=(1,), padding=(3,))\n",
            "            (1): Conv1d(16, 16, kernel_size=(7,), stride=(1,), padding=(3,))\n",
            "            (2): Conv1d(16, 16, kernel_size=(7,), stride=(1,), padding=(3,))\n",
            "          )\n",
            "        )\n",
            "        (2): ResBlock(\n",
            "          (conv1): ModuleList(\n",
            "            (0): Conv1d(16, 16, kernel_size=(11,), stride=(1,), padding=(5,))\n",
            "            (1): Conv1d(16, 16, kernel_size=(11,), stride=(1,), padding=(15,), dilation=(3,))\n",
            "            (2): Conv1d(16, 16, kernel_size=(11,), stride=(1,), padding=(25,), dilation=(5,))\n",
            "          )\n",
            "          (conv2): ModuleList(\n",
            "            (0): Conv1d(16, 16, kernel_size=(11,), stride=(1,), padding=(5,))\n",
            "            (1): Conv1d(16, 16, kernel_size=(11,), stride=(1,), padding=(5,))\n",
            "            (2): Conv1d(16, 16, kernel_size=(11,), stride=(1,), padding=(5,))\n",
            "          )\n",
            "        )\n",
            "      )\n",
            "    )\n",
            "    (9): LeakyReLU(negative_slope=0.1)\n",
            "    (10): ConvTranspose1d(16, 8, kernel_size=(4,), stride=(2,), padding=(1,))\n",
            "    (11): MRFModule(\n",
            "      (resblocks): ModuleList(\n",
            "        (0): ResBlock(\n",
            "          (conv1): ModuleList(\n",
            "            (0): Conv1d(8, 8, kernel_size=(3,), stride=(1,), padding=(1,))\n",
            "            (1): Conv1d(8, 8, kernel_size=(3,), stride=(1,), padding=(3,), dilation=(3,))\n",
            "            (2): Conv1d(8, 8, kernel_size=(3,), stride=(1,), padding=(5,), dilation=(5,))\n",
            "          )\n",
            "          (conv2): ModuleList(\n",
            "            (0): Conv1d(8, 8, kernel_size=(3,), stride=(1,), padding=(1,))\n",
            "            (1): Conv1d(8, 8, kernel_size=(3,), stride=(1,), padding=(1,))\n",
            "            (2): Conv1d(8, 8, kernel_size=(3,), stride=(1,), padding=(1,))\n",
            "          )\n",
            "        )\n",
            "        (1): ResBlock(\n",
            "          (conv1): ModuleList(\n",
            "            (0): Conv1d(8, 8, kernel_size=(7,), stride=(1,), padding=(3,))\n",
            "            (1): Conv1d(8, 8, kernel_size=(7,), stride=(1,), padding=(9,), dilation=(3,))\n",
            "            (2): Conv1d(8, 8, kernel_size=(7,), stride=(1,), padding=(15,), dilation=(5,))\n",
            "          )\n",
            "          (conv2): ModuleList(\n",
            "            (0): Conv1d(8, 8, kernel_size=(7,), stride=(1,), padding=(3,))\n",
            "            (1): Conv1d(8, 8, kernel_size=(7,), stride=(1,), padding=(3,))\n",
            "            (2): Conv1d(8, 8, kernel_size=(7,), stride=(1,), padding=(3,))\n",
            "          )\n",
            "        )\n",
            "        (2): ResBlock(\n",
            "          (conv1): ModuleList(\n",
            "            (0): Conv1d(8, 8, kernel_size=(11,), stride=(1,), padding=(5,))\n",
            "            (1): Conv1d(8, 8, kernel_size=(11,), stride=(1,), padding=(15,), dilation=(3,))\n",
            "            (2): Conv1d(8, 8, kernel_size=(11,), stride=(1,), padding=(25,), dilation=(5,))\n",
            "          )\n",
            "          (conv2): ModuleList(\n",
            "            (0): Conv1d(8, 8, kernel_size=(11,), stride=(1,), padding=(5,))\n",
            "            (1): Conv1d(8, 8, kernel_size=(11,), stride=(1,), padding=(5,))\n",
            "            (2): Conv1d(8, 8, kernel_size=(11,), stride=(1,), padding=(5,))\n",
            "          )\n",
            "        )\n",
            "      )\n",
            "    )\n",
            "  )\n",
            "  (conv_out): Conv1d(8, 1, kernel_size=(7,), stride=(1,), padding=(3,))\n",
            ")\n"
          ]
        },
        {
          "output_type": "display_data",
          "data": {
            "text/html": [
              "\n",
              "                    Syncing run <strong><a href=\"https://wandb.ai/quynhu_d/TTS_HiFiGAN/runs/15gfk62l\" target=\"_blank\">overfit_generator_gpu</a></strong> to <a href=\"https://wandb.ai/quynhu_d/TTS_HiFiGAN\" target=\"_blank\">Weights & Biases</a> (<a href=\"https://docs.wandb.com/integrations/jupyter.html\" target=\"_blank\">docs</a>).<br/>\n",
              "\n",
              "                "
            ],
            "text/plain": [
              "<IPython.core.display.HTML object>"
            ]
          },
          "metadata": {}
        },
        {
          "output_type": "display_data",
          "data": {
            "application/vnd.jupyter.widget-view+json": {
              "model_id": "7ba5ff7686704461a46a707e79454e50",
              "version_minor": 0,
              "version_major": 2
            },
            "text/plain": [
              "  0%|          | 0/10000 [00:00<?, ?it/s]"
            ]
          },
          "metadata": {}
        }
      ]
    }
  ]
}