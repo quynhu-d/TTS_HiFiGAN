{
  "cells": [
    {
      "cell_type": "markdown",
      "metadata": {
        "id": "view-in-github",
        "colab_type": "text"
      },
      "source": [
        "<a href=\"https://colab.research.google.com/github/quynhu-d/TTS_HiFiGAN/blob/master/overfit_hifigan.ipynb\" target=\"_parent\"><img src=\"https://colab.research.google.com/assets/colab-badge.svg\" alt=\"Open In Colab\"/></a>"
      ]
    },
    {
      "cell_type": "code",
      "execution_count": null,
      "metadata": {
        "id": "jXA1LkUtS6qr"
      },
      "outputs": [],
      "source": [
        "%load_ext autoreload\n",
        "%autoreload 2"
      ]
    },
    {
      "cell_type": "markdown",
      "metadata": {
        "id": "8A10hjv_ShHr"
      },
      "source": [
        "# Cloning and imports"
      ]
    },
    {
      "cell_type": "code",
      "execution_count": 1,
      "metadata": {
        "colab": {
          "base_uri": "https://localhost:8080/"
        },
        "id": "Mkv418joSGIN",
        "outputId": "60419c17-6197-407b-be6e-484b2942475a"
      },
      "outputs": [
        {
          "output_type": "stream",
          "name": "stdout",
          "text": [
            "Cloning into 'TTS_HiFiGAN'...\n",
            "remote: Enumerating objects: 58, done.\u001b[K\n",
            "remote: Counting objects: 100% (58/58), done.\u001b[K\n",
            "remote: Compressing objects: 100% (44/44), done.\u001b[K\n",
            "remote: Total 58 (delta 17), reused 51 (delta 12), pack-reused 0\u001b[K\n",
            "Unpacking objects: 100% (58/58), done.\n"
          ]
        }
      ],
      "source": [
        "!git clone https://github.com/quynhu-d/TTS_HiFiGAN/"
      ]
    },
    {
      "cell_type": "code",
      "execution_count": 2,
      "metadata": {
        "colab": {
          "base_uri": "https://localhost:8080/"
        },
        "id": "q3nhrqwESOJ1",
        "outputId": "59775e21-3337-4ea9-f766-3313e58656d3"
      },
      "outputs": [
        {
          "output_type": "stream",
          "name": "stdout",
          "text": [
            "/content/TTS_HiFiGAN\n"
          ]
        }
      ],
      "source": [
        "%cd TTS_HiFiGAN/"
      ]
    },
    {
      "cell_type": "code",
      "execution_count": null,
      "metadata": {
        "id": "K-P-zJitSZSZ"
      },
      "outputs": [],
      "source": [
        "!pip install -r ./requirements.txt"
      ]
    },
    {
      "cell_type": "code",
      "execution_count": 4,
      "metadata": {
        "id": "aHmzQdSDTdTJ"
      },
      "outputs": [],
      "source": [
        "from torchvision import transforms, datasets\n",
        "import torch\n",
        "import torch.nn as nn\n",
        "import torch.nn.functional as F\n",
        "import torch.optim as optim"
      ]
    },
    {
      "cell_type": "code",
      "execution_count": 5,
      "metadata": {
        "id": "yKDohTR4T2Xh"
      },
      "outputs": [],
      "source": [
        "import os\n",
        "import torch\n",
        "import pandas as pd\n",
        "import numpy as np\n",
        "from torch.utils.data import Dataset, DataLoader\n",
        "from torchvision import transforms, utils\n",
        "\n",
        "torch.manual_seed(42)\n",
        "if torch.cuda.is_available():\n",
        "    torch.cuda.manual_seed_all(42)"
      ]
    },
    {
      "cell_type": "code",
      "execution_count": 6,
      "metadata": {
        "colab": {
          "base_uri": "https://localhost:8080/",
          "height": 0
        },
        "id": "GOXmm0fvXsri",
        "outputId": "86b4af52-37c9-4b53-f8fa-6adca070146e"
      },
      "outputs": [
        {
          "output_type": "display_data",
          "data": {
            "application/javascript": [
              "\n",
              "        window._wandbApiKey = new Promise((resolve, reject) => {\n",
              "            function loadScript(url) {\n",
              "            return new Promise(function(resolve, reject) {\n",
              "                let newScript = document.createElement(\"script\");\n",
              "                newScript.onerror = reject;\n",
              "                newScript.onload = resolve;\n",
              "                document.body.appendChild(newScript);\n",
              "                newScript.src = url;\n",
              "            });\n",
              "            }\n",
              "            loadScript(\"https://cdn.jsdelivr.net/npm/postmate/build/postmate.min.js\").then(() => {\n",
              "            const iframe = document.createElement('iframe')\n",
              "            iframe.style.cssText = \"width:0;height:0;border:none\"\n",
              "            document.body.appendChild(iframe)\n",
              "            const handshake = new Postmate({\n",
              "                container: iframe,\n",
              "                url: 'https://wandb.ai/authorize'\n",
              "            });\n",
              "            const timeout = setTimeout(() => reject(\"Couldn't auto authenticate\"), 5000)\n",
              "            handshake.then(function(child) {\n",
              "                child.on('authorize', data => {\n",
              "                    clearTimeout(timeout)\n",
              "                    resolve(data)\n",
              "                });\n",
              "            });\n",
              "            })\n",
              "        });\n",
              "    "
            ],
            "text/plain": [
              "<IPython.core.display.Javascript object>"
            ]
          },
          "metadata": {}
        },
        {
          "output_type": "stream",
          "name": "stderr",
          "text": [
            "\u001b[34m\u001b[1mwandb\u001b[0m: Appending key for api.wandb.ai to your netrc file: /root/.netrc\n"
          ]
        },
        {
          "output_type": "execute_result",
          "data": {
            "text/plain": [
              "True"
            ]
          },
          "metadata": {},
          "execution_count": 6
        }
      ],
      "source": [
        "import wandb\n",
        "wandb.login()"
      ]
    },
    {
      "cell_type": "markdown",
      "metadata": {
        "id": "bB7Ho0vySmRs"
      },
      "source": [
        "# Data"
      ]
    },
    {
      "cell_type": "code",
      "execution_count": null,
      "metadata": {
        "id": "yZNkOmmTYi-x"
      },
      "outputs": [],
      "source": [
        "# !wget https://data.keithito.com/data/speech/LJSpeech-1.1.tar.bz2\n",
        "# !tar -xjf LJSpeech-1.1.tar.bz2 -C \"/content/drive/MyDrive/TTS/\""
      ]
    },
    {
      "cell_type": "code",
      "execution_count": null,
      "metadata": {
        "id": "WAVeobqtSet4"
      },
      "outputs": [],
      "source": [
        "from data import *"
      ]
    },
    {
      "cell_type": "code",
      "execution_count": null,
      "metadata": {
        "id": "SeTWloLKTM7i"
      },
      "outputs": [],
      "source": [
        "lj_path = '/content/drive/MyDrive/TTS/'\n",
        "dataset = LJSpeechDataset(lj_path)"
      ]
    },
    {
      "cell_type": "code",
      "execution_count": null,
      "metadata": {
        "id": "rpKDkxKOTV7q"
      },
      "outputs": [],
      "source": [
        "train_dataloader = DataLoader(dataset, batch_size=3, collate_fn=LJSpeechCollator(), shuffle=False)"
      ]
    },
    {
      "cell_type": "code",
      "execution_count": null,
      "metadata": {
        "colab": {
          "base_uri": "https://localhost:8080/"
        },
        "id": "6chNZNvnUNu0",
        "outputId": "7ebc3e7c-65c0-4796-b604-19881dde1428"
      },
      "outputs": [
        {
          "data": {
            "text/plain": [
              "<torch.utils.data.dataloader._SingleProcessDataLoaderIter at 0x7f2b12bbe5d0>"
            ]
          },
          "execution_count": 220,
          "metadata": {},
          "output_type": "execute_result"
        }
      ],
      "source": [
        "iter(train_dataloader)"
      ]
    },
    {
      "cell_type": "code",
      "execution_count": null,
      "metadata": {
        "colab": {
          "base_uri": "https://localhost:8080/"
        },
        "id": "Wmwt8RoUUB0p",
        "outputId": "b12c2d8b-5030-4d57-aaf6-1ebc60f455c1"
      },
      "outputs": [
        {
          "data": {
            "text/plain": [
              "Batch(waveform=tensor([[-0.0078, -0.0138, -0.0172,  ...,  0.0012,  0.0013,  0.0015],\n",
              "        [-0.0089, -0.0077, -0.0077,  ...,  0.0204,  0.0449,  0.0652],\n",
              "        [ 0.0867,  0.1351,  0.1901,  ..., -0.3068,  0.0231,  0.2711]]), waveform_length=tensor([212893,  41885, 213149], dtype=torch.int32), transcript=('Printing, in the only sense with which we are at present concerned, differs from most if not from all the arts and crafts represented in the Exhibition', 'in being comparatively modern.', 'For although the Chinese took impressions from wood blocks engraved in relief for centuries before the woodcutters of the Netherlands, by a similar process'), mel=None)"
            ]
          },
          "execution_count": 222,
          "metadata": {},
          "output_type": "execute_result"
        }
      ],
      "source": [
        "(iter(train_dataloader)).next()"
      ]
    },
    {
      "cell_type": "code",
      "execution_count": null,
      "metadata": {
        "id": "23XrN1ZCe2Fh"
      },
      "outputs": [],
      "source": [
        "waveform = next(iter(dataset))[0]"
      ]
    },
    {
      "cell_type": "code",
      "execution_count": null,
      "metadata": {
        "colab": {
          "base_uri": "https://localhost:8080/"
        },
        "id": "AgnMibHmjJAP",
        "outputId": "6c926521-a73f-4c9d-e2d9-bc4683a44645"
      },
      "outputs": [
        {
          "data": {
            "text/plain": [
              "torch.Size([3, 8192])"
            ]
          },
          "execution_count": 61,
          "metadata": {},
          "output_type": "execute_result"
        }
      ],
      "source": [
        "segment_size = 8192\n",
        "new_waveforms = []\n",
        "for waveform_ in torch.stack([waveform] * 3):\n",
        "    waveform_ = waveform_.squeeze(0)\n",
        "    if waveform_.size(0) >= segment_size:\n",
        "        max_audio_start = waveform_.size(0) - segment_size\n",
        "        audio_start = np.random.randint(0, max_audio_start)\n",
        "        waveform_ = waveform_[audio_start:audio_start+segment_size]\n",
        "    else:\n",
        "        waveform_ = torch.nn.functional.pad(waveform_, (0, segment_size - waveform_.size(0)), 'constant')\n",
        "    new_waveforms.append(waveform_)\n",
        "torch.stack(new_waveforms).shape"
      ]
    },
    {
      "cell_type": "code",
      "execution_count": null,
      "metadata": {
        "colab": {
          "base_uri": "https://localhost:8080/"
        },
        "id": "KVtqezTplula",
        "outputId": "962b9739-51e7-49b5-a0df-5e93cb6b6ed0"
      },
      "outputs": [
        {
          "data": {
            "text/plain": [
              "torch.Size([1, 212893])"
            ]
          },
          "execution_count": 56,
          "metadata": {},
          "output_type": "execute_result"
        }
      ],
      "source": [
        "waveform.shape"
      ]
    },
    {
      "cell_type": "markdown",
      "metadata": {
        "id": "h50meACkSjya"
      },
      "source": [
        "# Mel"
      ]
    },
    {
      "cell_type": "code",
      "execution_count": null,
      "metadata": {
        "id": "Jw955dUWSk91"
      },
      "outputs": [],
      "source": [
        "from featurizer import *"
      ]
    },
    {
      "cell_type": "code",
      "execution_count": null,
      "metadata": {
        "colab": {
          "base_uri": "https://localhost:8080/"
        },
        "id": "lwEZf4L1S3fp",
        "outputId": "3bc9f219-2bdc-4d33-f03b-9f5f0305468f"
      },
      "outputs": [
        {
          "data": {
            "text/plain": [
              "Batch(waveform=tensor([[-0.0813, -0.0989, -0.1166,  ...,  0.1069,  0.1168,  0.1346],\n",
              "        [-0.0078, -0.0072, -0.0067,  ...,  0.0869,  0.0853,  0.0835],\n",
              "        [-0.1348, -0.0853,  0.2620,  ...,  0.0012,  0.0025,  0.0036]]), waveform_length=tensor([212893,  41885, 213149], dtype=torch.int32), transcript=('Printing, in the only sense with which we are at present concerned, differs from most if not from all the arts and crafts represented in the Exhibition', 'in being comparatively modern.', 'For although the Chinese took impressions from wood blocks engraved in relief for centuries before the woodcutters of the Netherlands, by a similar process'), durations=None, duration_preds=None)"
            ]
          },
          "execution_count": 124,
          "metadata": {},
          "output_type": "execute_result"
        }
      ],
      "source": [
        "batch = (iter(train_dataloader)).next()\n",
        "batch"
      ]
    },
    {
      "cell_type": "code",
      "execution_count": null,
      "metadata": {
        "id": "7IQC6QmzSnFL"
      },
      "outputs": [],
      "source": [
        "mel = MelSpectrogram(MelSpectrogramConfig())"
      ]
    },
    {
      "cell_type": "code",
      "execution_count": null,
      "metadata": {
        "colab": {
          "base_uri": "https://localhost:8080/"
        },
        "id": "nw1Kb_CLTCMh",
        "outputId": "a38118fe-3df8-46ca-b50d-ac5a417da13b"
      },
      "outputs": [
        {
          "data": {
            "text/plain": [
              "torch.Size([3, 80, 33])"
            ]
          },
          "execution_count": 128,
          "metadata": {},
          "output_type": "execute_result"
        }
      ],
      "source": [
        "mel(batch.waveform).shape"
      ]
    },
    {
      "cell_type": "code",
      "execution_count": null,
      "metadata": {
        "colab": {
          "base_uri": "https://localhost:8080/",
          "height": 285
        },
        "id": "7DWUehZ4TSbY",
        "outputId": "95405711-321b-4c45-f434-6688f15aa6bb"
      },
      "outputs": [
        {
          "data": {
            "text/plain": [
              "<matplotlib.image.AxesImage at 0x7f2b23220cd0>"
            ]
          },
          "execution_count": 134,
          "metadata": {},
          "output_type": "execute_result"
        },
        {
          "data": {
            "image/png": "[encoded data removed]",
            "text/plain": [
              "<Figure size 432x288 with 1 Axes>"
            ]
          },
          "metadata": {},
          "output_type": "display_data"
        }
      ],
      "source": [
        "import matplotlib.pyplot as plt\n",
        "plt.imshow(mel(batch.waveform)[2])"
      ]
    },
    {
      "cell_type": "markdown",
      "metadata": {
        "id": "2xj-6kkPYpSN"
      },
      "source": [
        "# Model"
      ]
    },
    {
      "cell_type": "code",
      "execution_count": null,
      "metadata": {
        "id": "JU8dbLtsYsCx"
      },
      "outputs": [],
      "source": [
        "from torchsummary import summary"
      ]
    },
    {
      "cell_type": "markdown",
      "metadata": {
        "id": "AqqEnoALYsbZ"
      },
      "source": [
        "## Generator"
      ]
    },
    {
      "cell_type": "code",
      "execution_count": null,
      "metadata": {
        "id": "xlV7GL7JYo8X"
      },
      "outputs": [],
      "source": [
        "from models import Generator"
      ]
    },
    {
      "cell_type": "code",
      "execution_count": null,
      "metadata": {
        "colab": {
          "base_uri": "https://localhost:8080/"
        },
        "id": "R-amT9CQYyMH",
        "outputId": "f69d8c1d-ee5d-49b0-9548-cb7e99ad426a"
      },
      "outputs": [
        {
          "name": "stdout",
          "output_type": "stream",
          "text": [
            "----------------------------------------------------------------\n",
            "        Layer (type)               Output Shape         Param #\n",
            "================================================================\n",
            "            Conv1d-1             [-1, 128, 400]          71,808\n",
            "         LeakyReLU-2             [-1, 128, 400]               0\n",
            "   ConvTranspose1d-3             [-1, 64, 3200]         131,136\n",
            "            Conv1d-4             [-1, 64, 3200]          12,352\n",
            "            Conv1d-5             [-1, 64, 3200]          12,352\n",
            "            Conv1d-6             [-1, 64, 3200]          12,352\n",
            "            Conv1d-7             [-1, 64, 3200]          12,352\n",
            "            Conv1d-8             [-1, 64, 3200]          12,352\n",
            "            Conv1d-9             [-1, 64, 3200]          12,352\n",
            "         ResBlock-10             [-1, 64, 3200]               0\n",
            "           Conv1d-11             [-1, 64, 3200]          28,736\n",
            "           Conv1d-12             [-1, 64, 3200]          28,736\n",
            "           Conv1d-13             [-1, 64, 3200]          28,736\n",
            "           Conv1d-14             [-1, 64, 3200]          28,736\n",
            "           Conv1d-15             [-1, 64, 3200]          28,736\n",
            "           Conv1d-16             [-1, 64, 3200]          28,736\n",
            "         ResBlock-17             [-1, 64, 3200]               0\n",
            "           Conv1d-18             [-1, 64, 3200]          45,120\n",
            "           Conv1d-19             [-1, 64, 3200]          45,120\n",
            "           Conv1d-20             [-1, 64, 3200]          45,120\n",
            "           Conv1d-21             [-1, 64, 3200]          45,120\n",
            "           Conv1d-22             [-1, 64, 3200]          45,120\n",
            "           Conv1d-23             [-1, 64, 3200]          45,120\n",
            "         ResBlock-24             [-1, 64, 3200]               0\n",
            "        MRFModule-25             [-1, 64, 3200]               0\n",
            "        LeakyReLU-26             [-1, 64, 3200]               0\n",
            "  ConvTranspose1d-27            [-1, 32, 25600]          32,800\n",
            "           Conv1d-28            [-1, 32, 25600]           3,104\n",
            "           Conv1d-29            [-1, 32, 25600]           3,104\n",
            "           Conv1d-30            [-1, 32, 25600]           3,104\n",
            "           Conv1d-31            [-1, 32, 25600]           3,104\n",
            "           Conv1d-32            [-1, 32, 25600]           3,104\n",
            "           Conv1d-33            [-1, 32, 25600]           3,104\n",
            "         ResBlock-34            [-1, 32, 25600]               0\n",
            "           Conv1d-35            [-1, 32, 25600]           7,200\n",
            "           Conv1d-36            [-1, 32, 25600]           7,200\n",
            "           Conv1d-37            [-1, 32, 25600]           7,200\n",
            "           Conv1d-38            [-1, 32, 25600]           7,200\n",
            "           Conv1d-39            [-1, 32, 25600]           7,200\n",
            "           Conv1d-40            [-1, 32, 25600]           7,200\n",
            "         ResBlock-41            [-1, 32, 25600]               0\n",
            "           Conv1d-42            [-1, 32, 25600]          11,296\n",
            "           Conv1d-43            [-1, 32, 25600]          11,296\n",
            "           Conv1d-44            [-1, 32, 25600]          11,296\n",
            "           Conv1d-45            [-1, 32, 25600]          11,296\n",
            "           Conv1d-46            [-1, 32, 25600]          11,296\n",
            "           Conv1d-47            [-1, 32, 25600]          11,296\n",
            "         ResBlock-48            [-1, 32, 25600]               0\n",
            "        MRFModule-49            [-1, 32, 25600]               0\n",
            "        LeakyReLU-50            [-1, 32, 25600]               0\n",
            "  ConvTranspose1d-51            [-1, 16, 51200]           2,064\n",
            "           Conv1d-52            [-1, 16, 51200]             784\n",
            "           Conv1d-53            [-1, 16, 51200]             784\n",
            "           Conv1d-54            [-1, 16, 51200]             784\n",
            "           Conv1d-55            [-1, 16, 51200]             784\n",
            "           Conv1d-56            [-1, 16, 51200]             784\n",
            "           Conv1d-57            [-1, 16, 51200]             784\n",
            "         ResBlock-58            [-1, 16, 51200]               0\n",
            "           Conv1d-59            [-1, 16, 51200]           1,808\n",
            "           Conv1d-60            [-1, 16, 51200]           1,808\n",
            "           Conv1d-61            [-1, 16, 51200]           1,808\n",
            "           Conv1d-62            [-1, 16, 51200]           1,808\n",
            "           Conv1d-63            [-1, 16, 51200]           1,808\n",
            "           Conv1d-64            [-1, 16, 51200]           1,808\n",
            "         ResBlock-65            [-1, 16, 51200]               0\n",
            "           Conv1d-66            [-1, 16, 51200]           2,832\n",
            "           Conv1d-67            [-1, 16, 51200]           2,832\n",
            "           Conv1d-68            [-1, 16, 51200]           2,832\n",
            "           Conv1d-69            [-1, 16, 51200]           2,832\n",
            "           Conv1d-70            [-1, 16, 51200]           2,832\n",
            "           Conv1d-71            [-1, 16, 51200]           2,832\n",
            "         ResBlock-72            [-1, 16, 51200]               0\n",
            "        MRFModule-73            [-1, 16, 51200]               0\n",
            "        LeakyReLU-74            [-1, 16, 51200]               0\n",
            "  ConvTranspose1d-75            [-1, 8, 102400]             520\n",
            "           Conv1d-76            [-1, 8, 102400]             200\n",
            "           Conv1d-77            [-1, 8, 102400]             200\n",
            "           Conv1d-78            [-1, 8, 102400]             200\n",
            "           Conv1d-79            [-1, 8, 102400]             200\n",
            "           Conv1d-80            [-1, 8, 102400]             200\n",
            "           Conv1d-81            [-1, 8, 102400]             200\n",
            "         ResBlock-82            [-1, 8, 102400]               0\n",
            "           Conv1d-83            [-1, 8, 102400]             456\n",
            "           Conv1d-84            [-1, 8, 102400]             456\n",
            "           Conv1d-85            [-1, 8, 102400]             456\n",
            "           Conv1d-86            [-1, 8, 102400]             456\n",
            "           Conv1d-87            [-1, 8, 102400]             456\n",
            "           Conv1d-88            [-1, 8, 102400]             456\n",
            "         ResBlock-89            [-1, 8, 102400]               0\n",
            "           Conv1d-90            [-1, 8, 102400]             712\n",
            "           Conv1d-91            [-1, 8, 102400]             712\n",
            "           Conv1d-92            [-1, 8, 102400]             712\n",
            "           Conv1d-93            [-1, 8, 102400]             712\n",
            "           Conv1d-94            [-1, 8, 102400]             712\n",
            "           Conv1d-95            [-1, 8, 102400]             712\n",
            "         ResBlock-96            [-1, 8, 102400]               0\n",
            "        MRFModule-97            [-1, 8, 102400]               0\n",
            "           Conv1d-98            [-1, 1, 102400]              57\n",
            "================================================================\n",
            "Total params: 925,985\n",
            "Trainable params: 925,985\n",
            "Non-trainable params: 0\n",
            "----------------------------------------------------------------\n",
            "Input size (MB): 0.12\n",
            "Forward/backward pass size (MB): 482.81\n",
            "Params size (MB): 3.53\n",
            "Estimated Total Size (MB): 486.47\n",
            "----------------------------------------------------------------\n"
          ]
        }
      ],
      "source": [
        "gen = Generator(80, 128)\n",
        "summary(gen, (80,400))"
      ]
    },
    {
      "cell_type": "code",
      "execution_count": null,
      "metadata": {
        "colab": {
          "base_uri": "https://localhost:8080/"
        },
        "id": "bys4wyycT1il",
        "outputId": "9a8d8299-fcf2-4fae-b9a8-46f857060fef"
      },
      "outputs": [
        {
          "data": {
            "text/plain": [
              "torch.Size([3, 8448])"
            ]
          },
          "execution_count": 205,
          "metadata": {},
          "output_type": "execute_result"
        }
      ],
      "source": [
        "Generator(80,128)(mel(next(iter(train_dataloader)).waveform)).shape"
      ]
    },
    {
      "cell_type": "markdown",
      "metadata": {
        "id": "Yf3Ns18CUUx6"
      },
      "source": [
        "# Overfit Generator"
      ]
    },
    {
      "cell_type": "code",
      "execution_count": null,
      "metadata": {
        "id": "xRWM1-OMsw7S"
      },
      "outputs": [],
      "source": [
        "batch = next(iter(train_dataloader))"
      ]
    },
    {
      "cell_type": "code",
      "execution_count": null,
      "metadata": {
        "colab": {
          "base_uri": "https://localhost:8080/",
          "height": 1000,
          "referenced_widgets": [
            "a153ecb6c8764596ba3d8483c4bdf643",
            "77dbf145521142858bc1df729181741f",
            "babf6ea2e10941ebb3c45458d36264e9",
            "8dc1eeff1f9546f69d5f5c8003911961",
            "f5dacb2cc3594ff68e3c8f85214c6edd",
            "8a492fb485ec40f9b756bd8215d3ef59",
            "2637f549a4654a0197fd48a959448962",
            "a45db0e9d3094b57a545141eab079e4f",
            "d198d73117c14d5385e2b602a8b19d34",
            "b3c21d8f7682401cb69f658cbe6fc2e3",
            "0d61fe131914411ab27c6cf96c2a2956"
          ]
        },
        "id": "6ko30-kEUWGC",
        "outputId": "5835c52c-2190-4605-8894-03e07ab3fc7f"
      },
      "outputs": [
        {
          "output_type": "stream",
          "name": "stderr",
          "text": [
            "\u001b[34m\u001b[1mwandb\u001b[0m: Currently logged in as: \u001b[33mquynhu_d\u001b[0m (use `wandb login --relogin` to force relogin)\n"
          ]
        },
        {
          "output_type": "stream",
          "name": "stdout",
          "text": [
            "Generator(\n",
            "  (conv_in): Conv1d(80, 512, kernel_size=(7,), stride=(1,), padding=(3,))\n",
            "  (upsample_layers): Sequential(\n",
            "    (0): LeakyReLU(negative_slope=0.1)\n",
            "    (1): ConvTranspose1d(512, 256, kernel_size=(16,), stride=(8,), padding=(4,))\n",
            "    (2): MRFModule(\n",
            "      (resblocks): ModuleList(\n",
            "        (0): ResBlock(\n",
            "          (conv1): ModuleList(\n",
            "            (0): Conv1d(256, 256, kernel_size=(3,), stride=(1,), padding=(1,))\n",
            "            (1): Conv1d(256, 256, kernel_size=(3,), stride=(1,), padding=(3,), dilation=(3,))\n",
            "            (2): Conv1d(256, 256, kernel_size=(3,), stride=(1,), padding=(5,), dilation=(5,))\n",
            "          )\n",
            "          (conv2): ModuleList(\n",
            "            (0): Conv1d(256, 256, kernel_size=(3,), stride=(1,), padding=(1,))\n",
            "            (1): Conv1d(256, 256, kernel_size=(3,), stride=(1,), padding=(1,))\n",
            "            (2): Conv1d(256, 256, kernel_size=(3,), stride=(1,), padding=(1,))\n",
            "          )\n",
            "        )\n",
            "        (1): ResBlock(\n",
            "          (conv1): ModuleList(\n",
            "            (0): Conv1d(256, 256, kernel_size=(7,), stride=(1,), padding=(3,))\n",
            "            (1): Conv1d(256, 256, kernel_size=(7,), stride=(1,), padding=(9,), dilation=(3,))\n",
            "            (2): Conv1d(256, 256, kernel_size=(7,), stride=(1,), padding=(15,), dilation=(5,))\n",
            "          )\n",
            "          (conv2): ModuleList(\n",
            "            (0): Conv1d(256, 256, kernel_size=(7,), stride=(1,), padding=(3,))\n",
            "            (1): Conv1d(256, 256, kernel_size=(7,), stride=(1,), padding=(3,))\n",
            "            (2): Conv1d(256, 256, kernel_size=(7,), stride=(1,), padding=(3,))\n",
            "          )\n",
            "        )\n",
            "        (2): ResBlock(\n",
            "          (conv1): ModuleList(\n",
            "            (0): Conv1d(256, 256, kernel_size=(11,), stride=(1,), padding=(5,))\n",
            "            (1): Conv1d(256, 256, kernel_size=(11,), stride=(1,), padding=(15,), dilation=(3,))\n",
            "            (2): Conv1d(256, 256, kernel_size=(11,), stride=(1,), padding=(25,), dilation=(5,))\n",
            "          )\n",
            "          (conv2): ModuleList(\n",
            "            (0): Conv1d(256, 256, kernel_size=(11,), stride=(1,), padding=(5,))\n",
            "            (1): Conv1d(256, 256, kernel_size=(11,), stride=(1,), padding=(5,))\n",
            "            (2): Conv1d(256, 256, kernel_size=(11,), stride=(1,), padding=(5,))\n",
            "          )\n",
            "        )\n",
            "      )\n",
            "    )\n",
            "    (3): LeakyReLU(negative_slope=0.1)\n",
            "    (4): ConvTranspose1d(256, 128, kernel_size=(16,), stride=(8,), padding=(4,))\n",
            "    (5): MRFModule(\n",
            "      (resblocks): ModuleList(\n",
            "        (0): ResBlock(\n",
            "          (conv1): ModuleList(\n",
            "            (0): Conv1d(128, 128, kernel_size=(3,), stride=(1,), padding=(1,))\n",
            "            (1): Conv1d(128, 128, kernel_size=(3,), stride=(1,), padding=(3,), dilation=(3,))\n",
            "            (2): Conv1d(128, 128, kernel_size=(3,), stride=(1,), padding=(5,), dilation=(5,))\n",
            "          )\n",
            "          (conv2): ModuleList(\n",
            "            (0): Conv1d(128, 128, kernel_size=(3,), stride=(1,), padding=(1,))\n",
            "            (1): Conv1d(128, 128, kernel_size=(3,), stride=(1,), padding=(1,))\n",
            "            (2): Conv1d(128, 128, kernel_size=(3,), stride=(1,), padding=(1,))\n",
            "          )\n",
            "        )\n",
            "        (1): ResBlock(\n",
            "          (conv1): ModuleList(\n",
            "            (0): Conv1d(128, 128, kernel_size=(7,), stride=(1,), padding=(3,))\n",
            "            (1): Conv1d(128, 128, kernel_size=(7,), stride=(1,), padding=(9,), dilation=(3,))\n",
            "            (2): Conv1d(128, 128, kernel_size=(7,), stride=(1,), padding=(15,), dilation=(5,))\n",
            "          )\n",
            "          (conv2): ModuleList(\n",
            "            (0): Conv1d(128, 128, kernel_size=(7,), stride=(1,), padding=(3,))\n",
            "            (1): Conv1d(128, 128, kernel_size=(7,), stride=(1,), padding=(3,))\n",
            "            (2): Conv1d(128, 128, kernel_size=(7,), stride=(1,), padding=(3,))\n",
            "          )\n",
            "        )\n",
            "        (2): ResBlock(\n",
            "          (conv1): ModuleList(\n",
            "            (0): Conv1d(128, 128, kernel_size=(11,), stride=(1,), padding=(5,))\n",
            "            (1): Conv1d(128, 128, kernel_size=(11,), stride=(1,), padding=(15,), dilation=(3,))\n",
            "            (2): Conv1d(128, 128, kernel_size=(11,), stride=(1,), padding=(25,), dilation=(5,))\n",
            "          )\n",
            "          (conv2): ModuleList(\n",
            "            (0): Conv1d(128, 128, kernel_size=(11,), stride=(1,), padding=(5,))\n",
            "            (1): Conv1d(128, 128, kernel_size=(11,), stride=(1,), padding=(5,))\n",
            "            (2): Conv1d(128, 128, kernel_size=(11,), stride=(1,), padding=(5,))\n",
            "          )\n",
            "        )\n",
            "      )\n",
            "    )\n",
            "    (6): LeakyReLU(negative_slope=0.1)\n",
            "    (7): ConvTranspose1d(128, 64, kernel_size=(4,), stride=(2,), padding=(1,))\n",
            "    (8): MRFModule(\n",
            "      (resblocks): ModuleList(\n",
            "        (0): ResBlock(\n",
            "          (conv1): ModuleList(\n",
            "            (0): Conv1d(64, 64, kernel_size=(3,), stride=(1,), padding=(1,))\n",
            "            (1): Conv1d(64, 64, kernel_size=(3,), stride=(1,), padding=(3,), dilation=(3,))\n",
            "            (2): Conv1d(64, 64, kernel_size=(3,), stride=(1,), padding=(5,), dilation=(5,))\n",
            "          )\n",
            "          (conv2): ModuleList(\n",
            "            (0): Conv1d(64, 64, kernel_size=(3,), stride=(1,), padding=(1,))\n",
            "            (1): Conv1d(64, 64, kernel_size=(3,), stride=(1,), padding=(1,))\n",
            "            (2): Conv1d(64, 64, kernel_size=(3,), stride=(1,), padding=(1,))\n",
            "          )\n",
            "        )\n",
            "        (1): ResBlock(\n",
            "          (conv1): ModuleList(\n",
            "            (0): Conv1d(64, 64, kernel_size=(7,), stride=(1,), padding=(3,))\n",
            "            (1): Conv1d(64, 64, kernel_size=(7,), stride=(1,), padding=(9,), dilation=(3,))\n",
            "            (2): Conv1d(64, 64, kernel_size=(7,), stride=(1,), padding=(15,), dilation=(5,))\n",
            "          )\n",
            "          (conv2): ModuleList(\n",
            "            (0): Conv1d(64, 64, kernel_size=(7,), stride=(1,), padding=(3,))\n",
            "            (1): Conv1d(64, 64, kernel_size=(7,), stride=(1,), padding=(3,))\n",
            "            (2): Conv1d(64, 64, kernel_size=(7,), stride=(1,), padding=(3,))\n",
            "          )\n",
            "        )\n",
            "        (2): ResBlock(\n",
            "          (conv1): ModuleList(\n",
            "            (0): Conv1d(64, 64, kernel_size=(11,), stride=(1,), padding=(5,))\n",
            "            (1): Conv1d(64, 64, kernel_size=(11,), stride=(1,), padding=(15,), dilation=(3,))\n",
            "            (2): Conv1d(64, 64, kernel_size=(11,), stride=(1,), padding=(25,), dilation=(5,))\n",
            "          )\n",
            "          (conv2): ModuleList(\n",
            "            (0): Conv1d(64, 64, kernel_size=(11,), stride=(1,), padding=(5,))\n",
            "            (1): Conv1d(64, 64, kernel_size=(11,), stride=(1,), padding=(5,))\n",
            "            (2): Conv1d(64, 64, kernel_size=(11,), stride=(1,), padding=(5,))\n",
            "          )\n",
            "        )\n",
            "      )\n",
            "    )\n",
            "    (9): LeakyReLU(negative_slope=0.1)\n",
            "    (10): ConvTranspose1d(64, 32, kernel_size=(4,), stride=(2,), padding=(1,))\n",
            "    (11): MRFModule(\n",
            "      (resblocks): ModuleList(\n",
            "        (0): ResBlock(\n",
            "          (conv1): ModuleList(\n",
            "            (0): Conv1d(32, 32, kernel_size=(3,), stride=(1,), padding=(1,))\n",
            "            (1): Conv1d(32, 32, kernel_size=(3,), stride=(1,), padding=(3,), dilation=(3,))\n",
            "            (2): Conv1d(32, 32, kernel_size=(3,), stride=(1,), padding=(5,), dilation=(5,))\n",
            "          )\n",
            "          (conv2): ModuleList(\n",
            "            (0): Conv1d(32, 32, kernel_size=(3,), stride=(1,), padding=(1,))\n",
            "            (1): Conv1d(32, 32, kernel_size=(3,), stride=(1,), padding=(1,))\n",
            "            (2): Conv1d(32, 32, kernel_size=(3,), stride=(1,), padding=(1,))\n",
            "          )\n",
            "        )\n",
            "        (1): ResBlock(\n",
            "          (conv1): ModuleList(\n",
            "            (0): Conv1d(32, 32, kernel_size=(7,), stride=(1,), padding=(3,))\n",
            "            (1): Conv1d(32, 32, kernel_size=(7,), stride=(1,), padding=(9,), dilation=(3,))\n",
            "            (2): Conv1d(32, 32, kernel_size=(7,), stride=(1,), padding=(15,), dilation=(5,))\n",
            "          )\n",
            "          (conv2): ModuleList(\n",
            "            (0): Conv1d(32, 32, kernel_size=(7,), stride=(1,), padding=(3,))\n",
            "            (1): Conv1d(32, 32, kernel_size=(7,), stride=(1,), padding=(3,))\n",
            "            (2): Conv1d(32, 32, kernel_size=(7,), stride=(1,), padding=(3,))\n",
            "          )\n",
            "        )\n",
            "        (2): ResBlock(\n",
            "          (conv1): ModuleList(\n",
            "            (0): Conv1d(32, 32, kernel_size=(11,), stride=(1,), padding=(5,))\n",
            "            (1): Conv1d(32, 32, kernel_size=(11,), stride=(1,), padding=(15,), dilation=(3,))\n",
            "            (2): Conv1d(32, 32, kernel_size=(11,), stride=(1,), padding=(25,), dilation=(5,))\n",
            "          )\n",
            "          (conv2): ModuleList(\n",
            "            (0): Conv1d(32, 32, kernel_size=(11,), stride=(1,), padding=(5,))\n",
            "            (1): Conv1d(32, 32, kernel_size=(11,), stride=(1,), padding=(5,))\n",
            "            (2): Conv1d(32, 32, kernel_size=(11,), stride=(1,), padding=(5,))\n",
            "          )\n",
            "        )\n",
            "      )\n",
            "    )\n",
            "  )\n",
            "  (conv_out): Conv1d(32, 1, kernel_size=(7,), stride=(1,), padding=(3,))\n",
            ")\n"
          ]
        },
        {
          "output_type": "display_data",
          "data": {
            "text/html": [
              "\n",
              "                    Syncing run <strong><a href=\"https://wandb.ai/quynhu_d/TTS_HiFiGAN/runs/3lofe0ln\" target=\"_blank\">overfit_generator_gpu_4</a></strong> to <a href=\"https://wandb.ai/quynhu_d/TTS_HiFiGAN\" target=\"_blank\">Weights & Biases</a> (<a href=\"https://docs.wandb.com/integrations/jupyter.html\" target=\"_blank\">docs</a>).<br/>\n",
              "\n",
              "                "
            ],
            "text/plain": [
              "<IPython.core.display.HTML object>"
            ]
          },
          "metadata": {}
        },
        {
          "output_type": "display_data",
          "data": {
            "application/vnd.jupyter.widget-view+json": {
              "model_id": "a153ecb6c8764596ba3d8483c4bdf643",
              "version_minor": 0,
              "version_major": 2
            },
            "text/plain": [
              "  0%|          | 0/10000 [00:00<?, ?it/s]"
            ]
          },
          "metadata": {}
        }
      ],
      "source": [
        "import torch.nn.functional as F\n",
        "from models import Generator\n",
        "import numpy as np\n",
        "import torch\n",
        "torch.autograd.set_detect_anomaly(True)\n",
        "from tqdm.auto import tqdm, trange\n",
        "from torchvision.transforms import ToTensor\n",
        "import PIL\n",
        "from trainer.utils import plot_spectrogram_to_buf\n",
        "from featurizer import *\n",
        "from data import *\n",
        "\n",
        "\n",
        "LOG = True\n",
        "RGB = True\n",
        "display_step = 10\n",
        "device = torch.device('cuda' if torch.cuda.is_available() else 'cpu')\n",
        "model = Generator(80, 512).to(device)\n",
        "model.train()\n",
        "lj_path = '/content/drive/MyDrive/TTS/'\n",
        "dataset = LJSpeechDataset(lj_path)\n",
        "train_dataloader = DataLoader(dataset, batch_size=4, collate_fn=LJSpeechCollator(), shuffle=False)\n",
        "batch = next(iter(train_dataloader))\n",
        "print(model)\n",
        "opt_g = torch.optim.AdamW(model.parameters(), 2e-4, (.8,.99), weight_decay=.01)\n",
        "sch_g = torch.optim.lr_scheduler.ExponentialLR(opt_g, gamma=.999, last_epoch=-1)\n",
        "n_epochs = 10000\n",
        "if LOG:\n",
        "    wandb.init(project='TTS_HiFiGAN', name='overfit_generator_gpu_4')\n",
        "featurizer = MelSpectrogram(MelSpectrogramConfig()).to(device)\n",
        "for i in trange(n_epochs):\n",
        "    for _ in train_dataloader:    # fixed batch above\n",
        "        batch.to(device)\n",
        "        opt_g.zero_grad()\n",
        "        batch.mel = featurizer(batch.waveform).to(device)\n",
        "        pred_wav = model(batch.mel)\n",
        "        # print(pred_wav.size(), batch.mel.size())\n",
        "        # print(featurizer(pred_wav).shape)\n",
        "\n",
        "        sz_diff = np.abs(batch.waveform.size(-1) - pred_wav.size(-1))    \n",
        "        if sz_diff != 0:    \n",
        "            if batch.waveform.size(-1) > pred_wav.size(-1):\n",
        "                # print('padding waveform')\n",
        "                pred_wav = F.pad(pred_wav, (0, sz_diff))\n",
        "                true_wav = batch.waveform\n",
        "            else:\n",
        "                # print('padding batch')\n",
        "                true_wav = F.pad(batch.waveform, (0, sz_diff))\n",
        "            # batch.mel = featurizer(batch.waveform)\n",
        "        # print(batch.waveform.shape, pred_wav.shape)\n",
        "        assert true_wav.shape == pred_wav.shape\n",
        "        pred_mel = featurizer(pred_wav)\n",
        "        mel_loss = F.l1_loss(pred_mel, featurizer(true_wav)) * 45\n",
        "        mel_loss.backward()\n",
        "        opt_g.step()\n",
        "        # break\n",
        "\n",
        "        idx = np.random.randint(batch.mel.shape[0])\n",
        "        if LOG and ((i % display_step) == 0):\n",
        "            if RGB:\n",
        "                buf_true = plot_spectrogram_to_buf(batch.mel[idx].detach().cpu().numpy())\n",
        "                buf_pred = plot_spectrogram_to_buf(pred_mel[idx].detach().cpu().numpy())\n",
        "                wandb_mel_true = ToTensor()(PIL.Image.open(buf_true))\n",
        "                wandb_mel_pred = ToTensor()(PIL.Image.open(buf_pred))\n",
        "                del buf_pred\n",
        "                del buf_true\n",
        "            else:\n",
        "                wandb_mel_true = batch.mel[idx].detach().cpu().numpy()\n",
        "                wandb_mel_pred = pred_mel[idx].detach().cpu().numpy()\n",
        "            wandb.log({\n",
        "                'mel_loss': mel_loss,\n",
        "                'mel': wandb.Image(wandb_mel_true),\n",
        "                'mel_pred': wandb.Image(wandb_mel_pred),\n",
        "                'audio': wandb.Audio(batch.waveform[idx].detach().cpu().numpy(),\n",
        "                                        sample_rate=MelSpectrogramConfig.sr),\n",
        "                'audio_pred': wandb.Audio(pred_wav[idx].detach().cpu().numpy(),\n",
        "                                            sample_rate=MelSpectrogramConfig.sr),\n",
        "                'step': i\n",
        "            })\n",
        "        break\n",
        "    sch_g.step()"
      ]
    }
  ],
  "metadata": {
    "colab": {
      "collapsed_sections": [
        "2xj-6kkPYpSN",
        "AqqEnoALYsbZ"
      ],
      "name": "overfit_hifigan.ipynb",
      "provenance": [],
      "mount_file_id": "1NhKDw9A5JnZtLU9SRbDbhB_3qwoUyd3W",
      "authorship_tag": "ABX9TyMolWswsx2hgk5Kbxus7QXt",
      "include_colab_link": true
    },
    "kernelspec": {
      "display_name": "Python 3",
      "name": "python3"
    },
    "language_info": {
      "name": "python"
    },
    "widgets": {
      "application/vnd.jupyter.widget-state+json": {
        "a153ecb6c8764596ba3d8483c4bdf643": {
          "model_module": "@jupyter-widgets/controls",
          "model_name": "HBoxModel",
          "model_module_version": "1.5.0",
          "state": {
            "_view_name": "HBoxView",
            "_dom_classes": [],
            "_model_name": "HBoxModel",
            "_view_module": "@jupyter-widgets/controls",
            "_model_module_version": "1.5.0",
            "_view_count": null,
            "_view_module_version": "1.5.0",
            "box_style": "",
            "layout": "IPY_MODEL_77dbf145521142858bc1df729181741f",
            "_model_module": "@jupyter-widgets/controls",
            "children": [
              "IPY_MODEL_babf6ea2e10941ebb3c45458d36264e9",
              "IPY_MODEL_8dc1eeff1f9546f69d5f5c8003911961",
              "IPY_MODEL_f5dacb2cc3594ff68e3c8f85214c6edd"
            ]
          }
        },
        "77dbf145521142858bc1df729181741f": {
          "model_module": "@jupyter-widgets/base",
          "model_name": "LayoutModel",
          "model_module_version": "1.2.0",
          "state": {
            "_view_name": "LayoutView",
            "grid_template_rows": null,
            "right": null,
            "justify_content": null,
            "_view_module": "@jupyter-widgets/base",
            "overflow": null,
            "_model_module_version": "1.2.0",
            "_view_count": null,
            "flex_flow": null,
            "width": null,
            "min_width": null,
            "border": null,
            "align_items": null,
            "bottom": null,
            "_model_module": "@jupyter-widgets/base",
            "top": null,
            "grid_column": null,
            "overflow_y": null,
            "overflow_x": null,
            "grid_auto_flow": null,
            "grid_area": null,
            "grid_template_columns": null,
            "flex": null,
            "_model_name": "LayoutModel",
            "justify_items": null,
            "grid_row": null,
            "max_height": null,
            "align_content": null,
            "visibility": null,
            "align_self": null,
            "height": null,
            "min_height": null,
            "padding": null,
            "grid_auto_rows": null,
            "grid_gap": null,
            "max_width": null,
            "order": null,
            "_view_module_version": "1.2.0",
            "grid_template_areas": null,
            "object_position": null,
            "object_fit": null,
            "grid_auto_columns": null,
            "margin": null,
            "display": null,
            "left": null
          }
        },
        "babf6ea2e10941ebb3c45458d36264e9": {
          "model_module": "@jupyter-widgets/controls",
          "model_name": "HTMLModel",
          "model_module_version": "1.5.0",
          "state": {
            "_view_name": "HTMLView",
            "style": "IPY_MODEL_8a492fb485ec40f9b756bd8215d3ef59",
            "_dom_classes": [],
            "description": "",
            "_model_name": "HTMLModel",
            "placeholder": "​",
            "_view_module": "@jupyter-widgets/controls",
            "_model_module_version": "1.5.0",
            "value": " 17%",
            "_view_count": null,
            "_view_module_version": "1.5.0",
            "description_tooltip": null,
            "_model_module": "@jupyter-widgets/controls",
            "layout": "IPY_MODEL_2637f549a4654a0197fd48a959448962"
          }
        },
        "8dc1eeff1f9546f69d5f5c8003911961": {
          "model_module": "@jupyter-widgets/controls",
          "model_name": "FloatProgressModel",
          "model_module_version": "1.5.0",
          "state": {
            "_view_name": "ProgressView",
            "style": "IPY_MODEL_a45db0e9d3094b57a545141eab079e4f",
            "_dom_classes": [],
            "description": "",
            "_model_name": "FloatProgressModel",
            "bar_style": "",
            "max": 10000,
            "_view_module": "@jupyter-widgets/controls",
            "_model_module_version": "1.5.0",
            "value": 1733,
            "_view_count": null,
            "_view_module_version": "1.5.0",
            "orientation": "horizontal",
            "min": 0,
            "description_tooltip": null,
            "_model_module": "@jupyter-widgets/controls",
            "layout": "IPY_MODEL_d198d73117c14d5385e2b602a8b19d34"
          }
        },
        "f5dacb2cc3594ff68e3c8f85214c6edd": {
          "model_module": "@jupyter-widgets/controls",
          "model_name": "HTMLModel",
          "model_module_version": "1.5.0",
          "state": {
            "_view_name": "HTMLView",
            "style": "IPY_MODEL_b3c21d8f7682401cb69f658cbe6fc2e3",
            "_dom_classes": [],
            "description": "",
            "_model_name": "HTMLModel",
            "placeholder": "​",
            "_view_module": "@jupyter-widgets/controls",
            "_model_module_version": "1.5.0",
            "value": " 1732/10000 [12:34&lt;1:06:57,  2.06it/s]",
            "_view_count": null,
            "_view_module_version": "1.5.0",
            "description_tooltip": null,
            "_model_module": "@jupyter-widgets/controls",
            "layout": "IPY_MODEL_0d61fe131914411ab27c6cf96c2a2956"
          }
        },
        "8a492fb485ec40f9b756bd8215d3ef59": {
          "model_module": "@jupyter-widgets/controls",
          "model_name": "DescriptionStyleModel",
          "model_module_version": "1.5.0",
          "state": {
            "_view_name": "StyleView",
            "_model_name": "DescriptionStyleModel",
            "description_width": "",
            "_view_module": "@jupyter-widgets/base",
            "_model_module_version": "1.5.0",
            "_view_count": null,
            "_view_module_version": "1.2.0",
            "_model_module": "@jupyter-widgets/controls"
          }
        },
        "2637f549a4654a0197fd48a959448962": {
          "model_module": "@jupyter-widgets/base",
          "model_name": "LayoutModel",
          "model_module_version": "1.2.0",
          "state": {
            "_view_name": "LayoutView",
            "grid_template_rows": null,
            "right": null,
            "justify_content": null,
            "_view_module": "@jupyter-widgets/base",
            "overflow": null,
            "_model_module_version": "1.2.0",
            "_view_count": null,
            "flex_flow": null,
            "width": null,
            "min_width": null,
            "border": null,
            "align_items": null,
            "bottom": null,
            "_model_module": "@jupyter-widgets/base",
            "top": null,
            "grid_column": null,
            "overflow_y": null,
            "overflow_x": null,
            "grid_auto_flow": null,
            "grid_area": null,
            "grid_template_columns": null,
            "flex": null,
            "_model_name": "LayoutModel",
            "justify_items": null,
            "grid_row": null,
            "max_height": null,
            "align_content": null,
            "visibility": null,
            "align_self": null,
            "height": null,
            "min_height": null,
            "padding": null,
            "grid_auto_rows": null,
            "grid_gap": null,
            "max_width": null,
            "order": null,
            "_view_module_version": "1.2.0",
            "grid_template_areas": null,
            "object_position": null,
            "object_fit": null,
            "grid_auto_columns": null,
            "margin": null,
            "display": null,
            "left": null
          }
        },
        "a45db0e9d3094b57a545141eab079e4f": {
          "model_module": "@jupyter-widgets/controls",
          "model_name": "ProgressStyleModel",
          "model_module_version": "1.5.0",
          "state": {
            "_view_name": "StyleView",
            "_model_name": "ProgressStyleModel",
            "description_width": "",
            "_view_module": "@jupyter-widgets/base",
            "_model_module_version": "1.5.0",
            "_view_count": null,
            "_view_module_version": "1.2.0",
            "bar_color": null,
            "_model_module": "@jupyter-widgets/controls"
          }
        },
        "d198d73117c14d5385e2b602a8b19d34": {
          "model_module": "@jupyter-widgets/base",
          "model_name": "LayoutModel",
          "model_module_version": "1.2.0",
          "state": {
            "_view_name": "LayoutView",
            "grid_template_rows": null,
            "right": null,
            "justify_content": null,
            "_view_module": "@jupyter-widgets/base",
            "overflow": null,
            "_model_module_version": "1.2.0",
            "_view_count": null,
            "flex_flow": null,
            "width": null,
            "min_width": null,
            "border": null,
            "align_items": null,
            "bottom": null,
            "_model_module": "@jupyter-widgets/base",
            "top": null,
            "grid_column": null,
            "overflow_y": null,
            "overflow_x": null,
            "grid_auto_flow": null,
            "grid_area": null,
            "grid_template_columns": null,
            "flex": null,
            "_model_name": "LayoutModel",
            "justify_items": null,
            "grid_row": null,
            "max_height": null,
            "align_content": null,
            "visibility": null,
            "align_self": null,
            "height": null,
            "min_height": null,
            "padding": null,
            "grid_auto_rows": null,
            "grid_gap": null,
            "max_width": null,
            "order": null,
            "_view_module_version": "1.2.0",
            "grid_template_areas": null,
            "object_position": null,
            "object_fit": null,
            "grid_auto_columns": null,
            "margin": null,
            "display": null,
            "left": null
          }
        },
        "b3c21d8f7682401cb69f658cbe6fc2e3": {
          "model_module": "@jupyter-widgets/controls",
          "model_name": "DescriptionStyleModel",
          "model_module_version": "1.5.0",
          "state": {
            "_view_name": "StyleView",
            "_model_name": "DescriptionStyleModel",
            "description_width": "",
            "_view_module": "@jupyter-widgets/base",
            "_model_module_version": "1.5.0",
            "_view_count": null,
            "_view_module_version": "1.2.0",
            "_model_module": "@jupyter-widgets/controls"
          }
        },
        "0d61fe131914411ab27c6cf96c2a2956": {
          "model_module": "@jupyter-widgets/base",
          "model_name": "LayoutModel",
          "model_module_version": "1.2.0",
          "state": {
            "_view_name": "LayoutView",
            "grid_template_rows": null,
            "right": null,
            "justify_content": null,
            "_view_module": "@jupyter-widgets/base",
            "overflow": null,
            "_model_module_version": "1.2.0",
            "_view_count": null,
            "flex_flow": null,
            "width": null,
            "min_width": null,
            "border": null,
            "align_items": null,
            "bottom": null,
            "_model_module": "@jupyter-widgets/base",
            "top": null,
            "grid_column": null,
            "overflow_y": null,
            "overflow_x": null,
            "grid_auto_flow": null,
            "grid_area": null,
            "grid_template_columns": null,
            "flex": null,
            "_model_name": "LayoutModel",
            "justify_items": null,
            "grid_row": null,
            "max_height": null,
            "align_content": null,
            "visibility": null,
            "align_self": null,
            "height": null,
            "min_height": null,
            "padding": null,
            "grid_auto_rows": null,
            "grid_gap": null,
            "max_width": null,
            "order": null,
            "_view_module_version": "1.2.0",
            "grid_template_areas": null,
            "object_position": null,
            "object_fit": null,
            "grid_auto_columns": null,
            "margin": null,
            "display": null,
            "left": null
          }
        }
      }
    },
    "accelerator": "GPU"
  },
  "nbformat": 4,
  "nbformat_minor": 0
}